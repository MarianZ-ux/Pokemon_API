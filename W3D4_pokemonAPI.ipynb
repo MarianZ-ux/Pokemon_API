{
 "cells": [
  {
   "cell_type": "markdown",
   "metadata": {},
   "source": [
    "# Pokemon API CDN-83 HW W3D4"
   ]
  },
  {
   "cell_type": "markdown",
   "metadata": {},
   "source": [
    "Take a look at PokeAPI: <a href=\"https://pokeapi.co/\">https://pokeapi.co/</a>."
   ]
  },
  {
   "cell_type": "markdown",
   "metadata": {},
   "source": [
    "<strong>`Objective`</strong>: There are several main Pokemon class types: Fire, Water, Grass, Rock, Electric. Your application will use PokeAPI to build your own API program. Compile a list of 30 total Pokemon that identify as the aforementioned class types. Each category will hold a list of Pokemon and their personal attributes and some statistics as follows. Make this program an object-oriented program:\n",
    "\n",
    "**Note** How you compile the list of Pokemon is entirely up to you. "
   ]
  },
  {
   "cell_type": "code",
   "execution_count": 5,
   "metadata": {},
   "outputs": [],
   "source": [
    "import requests\n",
    "\n",
    "class PokemonAPI:\n",
    "    \n",
    "    def __init__(self):\n",
    "        self.base_url = 'https://pokeapi.co/api/v2/pokemon/'\n",
    "        \n",
    "    def _get(self, pokemon_name):\n",
    "        res = requests.get(f'{self.base_url}/{pokemon_name}/')\n",
    "        if res.ok:\n",
    "            return res.json()\n",
    "        else:\n",
    "            print(\"there was an error\")\n",
    "        \n",
    "        \n",
    "    def get_pokemon(self, pokemon):\n",
    "        data = self._get(pokemon.lower())\n",
    "        height = data['height']\n",
    "        weight = data['weight']\n",
    "        print(f'This {pokemon} specimen is {height} feet tall and {weight} lbs!! ')\n",
    "     \n",
    "pokedex = PokemonAPI()"
   ]
  },
  {
   "cell_type": "code",
   "execution_count": 6,
   "metadata": {},
   "outputs": [
    {
     "name": "stdout",
     "output_type": "stream",
     "text": [
      "This Mewtwo specimen is 20 feet tall and 1220 lbs!! \n"
     ]
    }
   ],
   "source": [
    "pokedex.get_pokemon('Mewtwo')"
   ]
  }
 ],
 "metadata": {
  "interpreter": {
   "hash": "b2b106cee8a59a2b5ef424f696440f1aed5a85ada00583184eca3316c2c4d7b6"
  },
  "kernelspec": {
   "display_name": "Python 3.9.7 64-bit ('base': conda)",
   "language": "python",
   "name": "python3"
  },
  "language_info": {
   "codemirror_mode": {
    "name": "ipython",
    "version": 3
   },
   "file_extension": ".py",
   "mimetype": "text/x-python",
   "name": "python",
   "nbconvert_exporter": "python",
   "pygments_lexer": "ipython3",
   "version": "3.9.7"
  },
  "orig_nbformat": 4
 },
 "nbformat": 4,
 "nbformat_minor": 2
}
